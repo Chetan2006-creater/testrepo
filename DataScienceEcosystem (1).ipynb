{
 "cells": [
  {
   "cell_type": "markdown",
   "id": "cb03a23d-94a5-4177-88b9-4a0de4138798",
   "metadata": {},
   "source": [
    "# Data Science Tools and Ecosystem"
   ]
  },
  {
   "cell_type": "markdown",
   "id": "d9b6897b-187a-48a8-9822-768ae2e41f68",
   "metadata": {},
   "source": [
    "In this notebook, Data Science Tools and Ecosystem are summarized."
   ]
  },
  {
   "cell_type": "markdown",
   "id": "22e7e8f9-dbf7-48c0-848d-5720e936bbf9",
   "metadata": {},
   "source": [
    "1. Python\n",
    "2. Java\n",
    "3. DBMS\n",
    "4. Github\n",
    "5. R"
   ]
  },
  {
   "cell_type": "markdown",
   "id": "959e883e-bd6c-4dab-9a31-720452ca9cf2",
   "metadata": {},
   "source": [
    "Some of the commonly used libraries used by Data Scientists include:"
   ]
  },
  {
   "cell_type": "markdown",
   "id": "3cbdaad2-e9fd-4889-a069-46a26a3a457f",
   "metadata": {},
   "source": [
    "1. iris\n",
    "2. Numpy\n",
    "3. Pandas\n",
    "4. Mathplotlip"
   ]
  },
  {
   "cell_type": "markdown",
   "id": "f137ec42-21e8-42ec-a3dc-bb61c92ff63f",
   "metadata": {},
   "source": [
    "| Trem | Description | Use|\n",
    "|----|----|-----|\n",
    "| ApacheMLlib |Languagethatmakesmachinelearningscalable| Data Analysis|\n",
    "|ApacheSpark | Ageneral-purposecluster-computingframeworkallowing youtoprocessdatausingcomputeclusters| Data Management|\n",
    " "
   ]
  },
  {
   "cell_type": "markdown",
   "id": "8bbe0950-dbda-4bda-be7f-2a5bb65f9769",
   "metadata": {},
   "source": [
    "### Below are a few examples of evaluating arithmetic expressions in Python"
   ]
  },
  {
   "cell_type": "code",
   "execution_count": 2,
   "id": "447fe68f-b1ff-400b-8832-d9c87ecd903b",
   "metadata": {},
   "outputs": [
    {
     "name": "stdout",
     "output_type": "stream",
     "text": [
      "17\n"
     ]
    }
   ],
   "source": [
    "print((3*4)+5)\n",
    "#This a simple arithmetic expression to mutiply then add integers"
   ]
  },
  {
   "cell_type": "code",
   "execution_count": 5,
   "id": "8e80b3ca-27d7-47b4-8b71-72c313a1dd52",
   "metadata": {},
   "outputs": [
    {
     "name": "stdout",
     "output_type": "stream",
     "text": [
      "3.3333333333333335\n"
     ]
    }
   ],
   "source": [
    "#This will convert 200 minutes to hours by diving by 60\n",
    "print(200/60)"
   ]
  },
  {
   "cell_type": "markdown",
   "id": "ef0ce8fc-616b-4b37-8d1a-0edea7051247",
   "metadata": {},
   "source": [
    "List popular languages for Data Science"
   ]
  },
  {
   "cell_type": "markdown",
   "id": "143d2cda-aac1-417e-bf19-c878dfe7ff39",
   "metadata": {},
   "source": [
    "- Python\n",
    "- java\n",
    "- R\n",
    "- DBMS"
   ]
  },
  {
   "cell_type": "markdown",
   "id": "3ecc39da-5512-4865-a0fb-fed0d566110c",
   "metadata": {},
   "source": [
    "[Hyperlink](https://www.coursera.org/learn/open-source-tools-for-data-science/ungradedWidget/VWCTU/final-assignment-instructions-create-and-share-your-jupyter-notebook)"
   ]
  },
  {
   "cell_type": "markdown",
   "id": "52dc40fe-5909-46d9-a3b8-cff7d0147aa7",
   "metadata": {},
   "source": [
    "## Author\n",
    "Lakshmi Holla,\n",
    "Niveditha Pandith"
   ]
  },
  {
   "cell_type": "code",
   "execution_count": null,
   "id": "3aa54126-5092-4e6f-b233-6e4d592a92b5",
   "metadata": {},
   "outputs": [],
   "source": []
  }
 ],
 "metadata": {
  "kernelspec": {
   "display_name": "Python [conda env:base] *",
   "language": "python",
   "name": "conda-base-py"
  },
  "language_info": {
   "codemirror_mode": {
    "name": "ipython",
    "version": 3
   },
   "file_extension": ".py",
   "mimetype": "text/x-python",
   "name": "python",
   "nbconvert_exporter": "python",
   "pygments_lexer": "ipython3",
   "version": "3.12.4"
  }
 },
 "nbformat": 4,
 "nbformat_minor": 5
}
