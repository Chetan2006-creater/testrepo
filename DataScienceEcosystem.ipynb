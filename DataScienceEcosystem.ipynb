{
 "cells": [
  {
   "cell_type": "markdown",
   "id": "cb03a23d-94a5-4177-88b9-4a0de4138798",
   "metadata": {},
   "source": [
    "# Data Science Tools and Ecosystem"
   ]
  },
  {
   "cell_type": "markdown",
   "id": "d9b6897b-187a-48a8-9822-768ae2e41f68",
   "metadata": {},
   "source": [
    "In this notebook, Data Science Tools and Ecosystem are summarized."
   ]
  },
  {
   "cell_type": "markdown",
   "id": "22e7e8f9-dbf7-48c0-848d-5720e936bbf9",
   "metadata": {},
   "source": [
    "1. Python\n",
    "2. Java\n",
    "3. DBMS\n",
    "4. Github\n",
    "5. R"
   ]
  },
  {
   "cell_type": "markdown",
   "id": "959e883e-bd6c-4dab-9a31-720452ca9cf2",
   "metadata": {},
   "source": [
    "6. Ml Modules"
   ]
  },
  {
   "cell_type": "markdown",
   "id": "f137ec42-21e8-42ec-a3dc-bb61c92ff63f",
   "metadata": {},
   "source": [
    "| Trem | Description | Use|\n",
    "|----|----|-----|\n",
    "| ApacheMLlib |Languagethatmakesmachinelearningscalable| Data Analysis|\n",
    "|ApacheSpark | Ageneral-purposecluster-computingframeworkallowing youtoprocessdatausingcomputeclusters| Data Management|\n",
    " "
   ]
  },
  {
   "cell_type": "code",
   "execution_count": 1,
   "id": "447fe68f-b1ff-400b-8832-d9c87ecd903b",
   "metadata": {},
   "outputs": [
    {
     "name": "stdout",
     "output_type": "stream",
     "text": [
      "17\n"
     ]
    }
   ],
   "source": [
    "print((3*4)+5)"
   ]
  },
  {
   "cell_type": "markdown",
   "id": "6662000b-313f-460c-af52-3f9cd90278f0",
   "metadata": {},
   "source": [
    "### Below are a few examples of evaluating arithmetic expressions in Python"
   ]
  },
  {
   "cell_type": "markdown",
   "id": "143d2cda-aac1-417e-bf19-c878dfe7ff39",
   "metadata": {},
   "source": [
    "- Python\n",
    "- java\n",
    "- R\n",
    "- DBMS"
   ]
  },
  {
   "cell_type": "markdown",
   "id": "3ecc39da-5512-4865-a0fb-fed0d566110c",
   "metadata": {},
   "source": [
    "[Hyperlink](https://www.coursera.org/learn/open-source-tools-for-data-science/ungradedWidget/VWCTU/final-assignment-instructions-create-and-share-your-jupyter-notebook)"
   ]
  },
  {
   "cell_type": "code",
   "execution_count": null,
   "id": "ae662d8c-2604-4093-9804-d5dc125825f7",
   "metadata": {},
   "outputs": [],
   "source": []
  }
 ],
 "metadata": {
  "kernelspec": {
   "display_name": "Python [conda env:base] *",
   "language": "python",
   "name": "conda-base-py"
  },
  "language_info": {
   "codemirror_mode": {
    "name": "ipython",
    "version": 3
   },
   "file_extension": ".py",
   "mimetype": "text/x-python",
   "name": "python",
   "nbconvert_exporter": "python",
   "pygments_lexer": "ipython3",
   "version": "3.12.4"
  }
 },
 "nbformat": 4,
 "nbformat_minor": 5
}
